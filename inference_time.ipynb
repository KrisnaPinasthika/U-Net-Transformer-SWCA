{
 "cells": [
  {
   "cell_type": "code",
   "execution_count": 1,
   "metadata": {},
   "outputs": [],
   "source": [
    "import torch \n",
    "import time as t\n",
    "from model.UNet import UNet\n",
    "from model.AttentionUNet import AttentionUNet \n",
    "from model.UNetTransformer import UNetTransformer\n",
    "from model.PreTrainedUNetSWCA import PreTrainedUNetSWCA"
   ]
  },
  {
   "cell_type": "code",
   "execution_count": 2,
   "metadata": {},
   "outputs": [],
   "source": [
    "device = torch.device('cuda')\n",
    "\n",
    "def getModel(model):\n",
    "    model = model.lower()\n",
    "    \n",
    "    if model == 'unet':\n",
    "        model_dict = {\n",
    "            'eff_b1': UNet(backbone='eff_b1'),\n",
    "            'eff_b5': UNet(backbone='eff_b5'),\n",
    "            'res_50': UNet(backbone='res_50'),\n",
    "        }\n",
    "    elif model == 'attn': \n",
    "        model_dict = {\n",
    "            'eff_b1': AttentionUNet(backbone='eff_b1'),\n",
    "            'eff_b5': AttentionUNet(backbone='eff_b5'),\n",
    "            'res_50': AttentionUNet(backbone='res_50'),\n",
    "        }\n",
    "    elif model == 'utrans':\n",
    "        model_dict = {\n",
    "            'eff_b1': UNetTransformer(backbone='eff_b1'),\n",
    "            'eff_b5': UNetTransformer(backbone='eff_b5'),\n",
    "            'res_50': UNetTransformer(backbone='res_50'),\n",
    "        }\n",
    "    elif model == 'swca':\n",
    "        model_dict = {\n",
    "            'eff_b1': PreTrainedUNetSWCA(\n",
    "                device='cuda', \n",
    "                backbone_name='eff_b1', \n",
    "                bottleneck_head=8,\n",
    "                window_sizes=[8, 8, 8, 8], \n",
    "                layers=[2, 2, 4, 4], \n",
    "                qkv_bias=False, \n",
    "                attn_drop_prob=0.2, \n",
    "                lin_drop_prob=0.1),\n",
    "            'eff_b5': PreTrainedUNetSWCA(\n",
    "                device='cuda', \n",
    "                backbone_name='eff_b5', \n",
    "                bottleneck_head=32,\n",
    "                window_sizes=[5, 5, 5, 5], \n",
    "                layers=[2, 2, 4, 4], \n",
    "                qkv_bias=False, \n",
    "                attn_drop_prob=0.2, \n",
    "                lin_drop_prob=0.1),\n",
    "            'res_50': PreTrainedUNetSWCA(\n",
    "                device='cuda', \n",
    "                backbone_name='res_50', \n",
    "                bottleneck_head=8,\n",
    "                window_sizes=[8, 8, 8, 8], \n",
    "                layers=[2, 2, 4, 4], \n",
    "                qkv_bias=False, \n",
    "                attn_drop_prob=0.2, \n",
    "                lin_drop_prob=0.1),\n",
    "        }\n",
    "    else:\n",
    "        print('model tidak tersedia')\n",
    "        return 0 \n",
    "    \n",
    "    return model_dict"
   ]
  },
  {
   "cell_type": "code",
   "execution_count": 3,
   "metadata": {},
   "outputs": [
    {
     "name": "stderr",
     "output_type": "stream",
     "text": [
      "Downloading: \"https://download.pytorch.org/models/efficientnet_b3_rwightman-cf984f9c.pth\" to C:\\Users\\User/.cache\\torch\\hub\\checkpoints\\efficientnet_b3_rwightman-cf984f9c.pth\n",
      "100%|██████████| 47.2M/47.2M [01:53<00:00, 438kB/s] \n",
      "Downloading: \"https://download.pytorch.org/models/efficientnet_b6_lukemelas-c76e70fd.pth\" to C:\\Users\\User/.cache\\torch\\hub\\checkpoints\\efficientnet_b6_lukemelas-c76e70fd.pth\n",
      "100%|██████████| 165M/165M [04:48<00:00, 602kB/s]  \n",
      "Downloading: \"https://download.pytorch.org/models/densenet121-a639ec97.pth\" to C:\\Users\\User/.cache\\torch\\hub\\checkpoints\\densenet121-a639ec97.pth\n",
      "100%|██████████| 30.8M/30.8M [01:05<00:00, 492kB/s]\n",
      "Downloading: \"https://download.pytorch.org/models/densenet169-b2777c0a.pth\" to C:\\Users\\User/.cache\\torch\\hub\\checkpoints\\densenet169-b2777c0a.pth\n",
      "100%|██████████| 54.7M/54.7M [01:47<00:00, 531kB/s]\n",
      "Downloading: \"https://download.pytorch.org/models/densenet201-c1103571.pth\" to C:\\Users\\User/.cache\\torch\\hub\\checkpoints\\densenet201-c1103571.pth\n",
      "100%|██████████| 77.4M/77.4M [02:38<00:00, 513kB/s]\n",
      "Downloading: \"https://download.pytorch.org/models/resnet18-f37072fd.pth\" to C:\\Users\\User/.cache\\torch\\hub\\checkpoints\\resnet18-f37072fd.pth\n",
      "100%|██████████| 44.7M/44.7M [02:03<00:00, 379kB/s]\n",
      "Downloading: \"https://download.pytorch.org/models/resnet34-b627a593.pth\" to C:\\Users\\User/.cache\\torch\\hub\\checkpoints\\resnet34-b627a593.pth\n",
      "100%|██████████| 83.3M/83.3M [02:41<00:00, 540kB/s]\n",
      "Downloading: \"https://download.pytorch.org/models/resnet101-63fe2227.pth\" to C:\\Users\\User/.cache\\torch\\hub\\checkpoints\\resnet101-63fe2227.pth\n",
      "100%|██████████| 171M/171M [06:11<00:00, 482kB/s]  \n"
     ]
    }
   ],
   "source": [
    "# unet, attn, utrans, swca\n",
    "models = getModel('swca')\n",
    "\n",
    "model_effb1, model_effb5, model_effres50 = models['eff_b1'], models['eff_b5'], models['res_50']"
   ]
  },
  {
   "cell_type": "code",
   "execution_count": 4,
   "metadata": {},
   "outputs": [],
   "source": [
    "# Todo: Params check \n",
    "# from torchsummary import summary \n",
    "# summary(model_effres50.to(\"cuda\"), (3, 256, 256))\n",
    "\n",
    "# Todo: GFLOPS Check\n",
    "# from thop import profile\n",
    "# import warnings\n",
    "# warnings.filterwarnings(\"ignore\", category=DeprecationWarning) \n",
    "\n",
    "# sample = torch.randn((1, 3, 480, 640)).to(device)\n",
    "# macs, params = profile(model_effb5.to(device), inputs=(sample, ))\n",
    "# print(f\"GFLOPs: {2*macs * 1e-9:.2f}, Params: {params:.2f}\")\n",
    "\n",
    "# sample = torch.randn((1, 3, 256, 256)).to(device)Q\n",
    "# macs, params = profile(model_effb1.to(device), inputs=(sample, ))\n",
    "# print(f\"GFLOPs: {2*macs * 1e-9:.2f}, Params: {params:.2f}\")\n",
    "\n",
    "# macs, params = profile(model_effres50.to(device), inputs=(sample, ))\n",
    "# print(f\"GFLOPs: {2*macs * 1e-9:.2f}, Params: {params:.2f}\")\n"
   ]
  },
  {
   "cell_type": "code",
   "execution_count": 5,
   "metadata": {},
   "outputs": [
    {
     "name": "stdout",
     "output_type": "stream",
     "text": [
      "eff_b5\n",
      "WARMUP\n",
      "Inference time experiment start\n",
      "eff_b1\n",
      "WARMUP\n",
      "Inference time experiment start\n",
      "res_50\n",
      "WARMUP\n",
      "Inference time experiment start\n",
      "DONE\n"
     ]
    }
   ],
   "source": [
    "fps_counter = {}\n",
    "inference_counter = {}\n",
    "\n",
    "i = 0\n",
    "\n",
    "for model, name in zip([model_effb5, model_effb1, model_effres50], ['eff_b5', 'eff_b1', 'res_50']):\n",
    "    print(name)\n",
    "    model.to(device)\n",
    "    if i == 0:\n",
    "        random_sample = torch.randn((1, 3, 480, 640)).to(device)\n",
    "    else:\n",
    "        random_sample = torch.randn((1, 3, 256, 256)).to(device)\n",
    "    \n",
    "    # Todo: Warm up for 10 sec\n",
    "    print('WARMUP')\n",
    "    warmup_start = t.time()\n",
    "    while True: \n",
    "        pred = model(random_sample)\n",
    "        \n",
    "        if (t.time() - warmup_start) >= 10:\n",
    "            break\n",
    "    \n",
    "    print('Inference time experiment start')\n",
    "    prev_frame_time = 0\n",
    "    new_frame_time = 0\n",
    "\n",
    "    fps_history, inference_history = [], []\n",
    "    fps_inference_time_counter = t.time()\n",
    "    while True: \n",
    "        inference_start = t.time()\n",
    "        pred = model(random_sample)\n",
    "        inference_end = t.time() - inference_start\n",
    "        \n",
    "        new_frame_time = t.time() \n",
    "        fps = int(1/(new_frame_time-prev_frame_time))\n",
    "        prev_frame_time = new_frame_time \n",
    "        \n",
    "        fps_history.append(fps)\n",
    "        inference_history.append(inference_end)\n",
    "        \n",
    "        if (t.time() - fps_inference_time_counter) >= 60.:\n",
    "            break\n",
    "    \n",
    "    fps_counter[name] = fps_history\n",
    "    inference_counter[name] = inference_history\n",
    "    \n",
    "    i += 1\n",
    "\n",
    "print('DONE')"
   ]
  },
  {
   "cell_type": "code",
   "execution_count": 6,
   "metadata": {},
   "outputs": [
    {
     "name": "stdout",
     "output_type": "stream",
     "text": [
      "\teff_b5\n",
      "\tMedian FPS : 1.00\n",
      "\tMean FPS : 1.08\n",
      "\n",
      "\tMedian Inference Time : 649.94 ms\n",
      "\tMean Inference Time : 651.53 ms\n",
      "------------------------------------------------------------\n",
      "\teff_b1\n",
      "\tMedian FPS : 9.00\n",
      "\tMean FPS : 9.39\n",
      "\n",
      "\tMedian Inference Time : 102.89 ms\n",
      "\tMean Inference Time : 102.99 ms\n",
      "------------------------------------------------------------\n",
      "\tres_50\n",
      "\tMedian FPS : 5.00\n",
      "\tMean FPS : 5.27\n",
      "\n",
      "\tMedian Inference Time : 172.50 ms\n",
      "\tMean Inference Time : 173.68 ms\n",
      "------------------------------------------------------------\n"
     ]
    }
   ],
   "source": [
    "import numpy as np \n",
    "\n",
    "for key in ['eff_b5', 'eff_b1', 'res_50']: \n",
    "    print(f\"\\t{key}\")\n",
    "    median_fps = np.median(np.array(fps_counter[key]))\n",
    "    median_inference = np.median(np.array(inference_counter[key]))\n",
    "    \n",
    "    mean_fps = np.array(fps_counter[key]).mean()\n",
    "    mean_inference = np.array(inference_counter[key]).mean()\n",
    "    \n",
    "    print(f\"\\tMedian FPS : {median_fps:.2f}\")\n",
    "    print(f\"\\tMean FPS : {mean_fps:.2f}\\n\")\n",
    "    print(f\"\\tMedian Inference Time : {median_inference * 1000:.2f} ms\")\n",
    "    print(f\"\\tMean Inference Time : {mean_inference * 1000:.2f} ms\")\n",
    "    print(\"---\"*20)"
   ]
  },
  {
   "cell_type": "code",
   "execution_count": 5,
   "metadata": {},
   "outputs": [
    {
     "name": "stdout",
     "output_type": "stream",
     "text": [
      "{'eff_b1': [0, 2, 2, 2, 2, 2, 2, 2, 2, 2, 2, 2, 2, 2, 2, 2, 2, 2, 2, 2, 2, 2, 2, 2, 2, 2, 2, 2, 2, 2, 2, 2, 2, 2, 2, 2, 2, 2, 2, 2, 2, 2, 2, 2, 2, 2, 2, 2, 2, 2, 2, 2, 2, 2, 2, 2, 2, 2, 2, 1, 1, 3, 2, 1, 2, 2, 2, 2, 2, 1, 2, 1, 2, 2, 2, 2, 2, 2, 2, 2, 1, 1, 2, 2, 2, 1, 2, 2, 3, 2, 2, 2, 2, 2, 2, 1, 2, 2, 1, 2, 1, 2, 2, 2, 2, 2, 2, 2, 2, 3, 3, 2, 2, 2, 2, 2, 2, 2, 2, 2, 2, 2, 2, 2, 2, 2, 2, 2, 2, 2, 1, 2, 1, 2, 1, 2, 2, 2, 2, 2, 2, 2, 1], 'eff_b5': [0, 1, 2, 1, 1, 2, 2, 2, 1, 1, 1, 1, 1, 1, 2, 1, 1, 1, 1, 1, 1, 1, 2, 1, 1, 1, 1, 1, 1, 1, 1, 1, 1, 1, 1, 1, 1, 1, 1, 1, 1, 1, 1, 1, 1, 1, 1, 1, 1, 3, 1, 1, 1, 1, 1, 1, 1, 1, 1, 1, 1, 2, 1, 1, 1, 1, 1, 2, 1, 1, 1, 1, 1, 1, 1, 1, 1, 1, 1, 1, 1, 1, 1, 2, 1, 1, 1, 1, 1, 1, 1, 1, 1, 1, 1, 1, 1, 1, 1, 1, 1, 1], 'res_50': [0, 1, 1, 1, 1, 1, 1, 1, 1, 1, 1, 1, 1, 1, 1, 2, 1, 1, 1, 1, 1, 1, 1, 1, 1, 1, 1, 1, 1, 1, 1, 2, 1, 1, 1, 1, 1, 1, 1, 1, 1, 1, 1, 1, 1, 1, 1, 1, 1, 1, 1, 1, 1, 1, 1, 1, 1, 1, 1, 1, 1, 1, 1, 1, 1, 1, 1, 1, 1, 1, 1, 1, 1, 1, 1, 1, 1, 1, 1, 1, 1, 1, 1, 1, 1, 1, 1, 1]}\n"
     ]
    }
   ],
   "source": [
    "text = print(fps_counter)"
   ]
  },
  {
   "cell_type": "code",
   "execution_count": 6,
   "metadata": {},
   "outputs": [
    {
     "name": "stdout",
     "output_type": "stream",
     "text": [
      "{'eff_b1': [0.3541300296783447, 0.3659789562225342, 0.4429311752319336, 0.44008398056030273, 0.3707888126373291, 0.35350751876831055, 0.3901689052581787, 0.49134325981140137, 0.42220234870910645, 0.3678269386291504, 0.33605074882507324, 0.37355732917785645, 0.39514946937561035, 0.38775205612182617, 0.3827958106994629, 0.47191810607910156, 0.4002096652984619, 0.4470503330230713, 0.35376858711242676, 0.41971516609191895, 0.4315376281738281, 0.41928577423095703, 0.4111814498901367, 0.4188542366027832, 0.3571195602416992, 0.3790731430053711, 0.3622558116912842, 0.4354875087738037, 0.4077119827270508, 0.3890554904937744, 0.4358656406402588, 0.4286673069000244, 0.34864306449890137, 0.3975381851196289, 0.4259822368621826, 0.39708590507507324, 0.36244726181030273, 0.3510870933532715, 0.455951452255249, 0.4703195095062256, 0.4074070453643799, 0.4669816493988037, 0.4410727024078369, 0.4424281120300293, 0.43280839920043945, 0.42140913009643555, 0.43094491958618164, 0.41110944747924805, 0.4168422222137451, 0.4112989902496338, 0.40316247940063477, 0.3660268783569336, 0.3894200325012207, 0.37006616592407227, 0.4311974048614502, 0.41536402702331543, 0.35122013092041016, 0.3716096878051758, 0.4402804374694824, 0.5481472015380859, 0.5237419605255127, 0.3121163845062256, 0.47601890563964844, 0.5157020092010498, 0.4400749206542969, 0.47945070266723633, 0.47500133514404297, 0.44272661209106445, 0.4628431797027588, 0.5640523433685303, 0.4400961399078369, 0.5312721729278564, 0.41266846656799316, 0.4540083408355713, 0.4823894500732422, 0.3540918827056885, 0.46424365043640137, 0.47218990325927734, 0.48314356803894043, 0.4996473789215088, 0.5328783988952637, 0.5206115245819092, 0.4764285087585449, 0.35767626762390137, 0.37152910232543945, 0.5161986351013184, 0.4198415279388428, 0.4340379238128662, 0.3324763774871826, 0.3926374912261963, 0.3887321949005127, 0.42991065979003906, 0.3818962574005127, 0.39341306686401367, 0.45052456855773926, 0.5314137935638428, 0.4044370651245117, 0.4851367473602295, 0.5487351417541504, 0.46146535873413086, 0.5070273876190186, 0.3832552433013916, 0.4028127193450928, 0.3922550678253174, 0.36890578269958496, 0.37935614585876465, 0.3701202869415283, 0.35860371589660645, 0.3729565143585205, 0.3105905055999756, 0.2561671733856201, 0.45449399948120117, 0.42096590995788574, 0.3755462169647217, 0.3719758987426758, 0.42304372787475586, 0.41414928436279297, 0.41336631774902344, 0.3445401191711426, 0.3759341239929199, 0.3813774585723877, 0.3624589443206787, 0.4037208557128906, 0.41850852966308594, 0.3662748336791992, 0.4118020534515381, 0.3520984649658203, 0.4116363525390625, 0.40773463249206543, 0.4451420307159424, 0.5006773471832275, 0.4655313491821289, 0.5075650215148926, 0.47695016860961914, 0.5399327278137207, 0.33614182472229004, 0.3785398006439209, 0.4577312469482422, 0.48715710639953613, 0.49301695823669434, 0.45218372344970703, 0.44909167289733887, 0.5386791229248047], 'eff_b5': [0.6063039302825928, 0.551257848739624, 0.46915578842163086, 0.5987050533294678, 0.5368175506591797, 0.4596116542816162, 0.4233224391937256, 0.49463534355163574, 0.6205334663391113, 0.5193123817443848, 0.7245643138885498, 0.7117950916290283, 0.5639164447784424, 0.5651814937591553, 0.4255106449127197, 0.5784740447998047, 0.6017489433288574, 0.5735259056091309, 0.5878455638885498, 0.5944805145263672, 0.6684587001800537, 0.5773420333862305, 0.46506404876708984, 0.5554959774017334, 0.6878390312194824, 0.5907912254333496, 0.5676970481872559, 0.6448397636413574, 0.6545205116271973, 0.6051039695739746, 0.7293140888214111, 0.5436272621154785, 0.6958527565002441, 0.7153806686401367, 0.7035567760467529, 0.6471788883209229, 0.6056015491485596, 0.5522797107696533, 0.56394362449646, 0.5768897533416748, 0.6921358108520508, 0.653695821762085, 0.6431338787078857, 0.6818239688873291, 0.5882210731506348, 0.5378983020782471, 0.5835301876068115, 0.5916502475738525, 0.5466184616088867, 0.31122374534606934, 0.6248898506164551, 0.5840866565704346, 0.5438883304595947, 0.6490588188171387, 0.6490631103515625, 0.6161088943481445, 0.6410799026489258, 0.5674750804901123, 0.5964736938476562, 0.5754938125610352, 0.6784498691558838, 0.46512484550476074, 0.5272493362426758, 0.5164501667022705, 0.5581834316253662, 0.585730791091919, 0.5183496475219727, 0.4623897075653076, 0.581944465637207, 0.5773308277130127, 0.6547348499298096, 0.6604394912719727, 0.6252596378326416, 0.6274092197418213, 0.61065673828125, 0.7006585597991943, 0.6902036666870117, 0.7103517055511475, 0.7680292129516602, 0.6081638336181641, 0.6282963752746582, 0.6758790016174316, 0.5634565353393555, 0.41530299186706543, 0.5805730819702148, 0.5809664726257324, 0.6297316551208496, 0.5228080749511719, 0.5654330253601074, 0.515610933303833, 0.5347974300384521, 0.5367014408111572, 0.6014649868011475, 0.5702769756317139, 0.6183860301971436, 0.6368312835693359, 0.6261942386627197, 0.6195111274719238, 0.7077126502990723, 0.725611686706543, 0.5244700908660889, 0.6806814670562744], 'res_50': [0.5942525863647461, 0.5812489986419678, 0.6628627777099609, 0.6012568473815918, 0.614302396774292, 0.6400868892669678, 0.5343103408813477, 0.6370797157287598, 0.5146431922912598, 0.5674147605895996, 0.5909223556518555, 0.5472848415374756, 0.5785341262817383, 0.6642765998840332, 0.6535136699676514, 0.462522029876709, 0.6221668720245361, 0.5771470069885254, 0.6046783924102783, 0.5929388999938965, 0.6253831386566162, 0.6533305644989014, 0.6307799816131592, 0.572141170501709, 0.5695910453796387, 0.7040843963623047, 0.7505369186401367, 0.7378864288330078, 0.7627649307250977, 0.6706078052520752, 0.8207042217254639, 0.4516634941101074, 0.7500369548797607, 0.7035014629364014, 0.80375075340271, 0.735405445098877, 0.752617597579956, 0.8276281356811523, 0.7852401733398438, 0.6087696552276611, 0.6281633377075195, 0.7697925567626953, 0.7112026214599609, 0.793311357498169, 0.7890007495880127, 0.5719695091247559, 0.7088367938995361, 0.703493595123291, 0.6774213314056396, 0.6656816005706787, 0.6845154762268066, 0.7374002933502197, 0.7376401424407959, 0.7975900173187256, 0.7269914150238037, 0.6681838035583496, 0.7867004871368408, 0.6174647808074951, 0.7043113708496094, 0.689812183380127, 0.6987295150756836, 0.7241566181182861, 0.7261021137237549, 0.7214901447296143, 0.7752442359924316, 0.7140588760375977, 0.7677149772644043, 0.7744038105010986, 0.7688417434692383, 0.760643720626831, 0.7715659141540527, 0.957195520401001, 0.6648216247558594, 0.7695488929748535, 0.7089769840240479, 0.7673096656799316, 0.781890869140625, 0.6624248027801514, 0.748593807220459, 0.6152362823486328, 0.7181146144866943, 0.7021510601043701, 0.718388557434082, 0.7863388061523438, 0.7660818099975586, 0.790679931640625, 0.6950254440307617, 0.5264101028442383]}\n"
     ]
    }
   ],
   "source": [
    "print(inference_counter)"
   ]
  }
 ],
 "metadata": {
  "kernelspec": {
   "display_name": "Python 3",
   "language": "python",
   "name": "python3"
  },
  "language_info": {
   "codemirror_mode": {
    "name": "ipython",
    "version": 3
   },
   "file_extension": ".py",
   "mimetype": "text/x-python",
   "name": "python",
   "nbconvert_exporter": "python",
   "pygments_lexer": "ipython3",
   "version": "3.8.0"
  }
 },
 "nbformat": 4,
 "nbformat_minor": 4
}
